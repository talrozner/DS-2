{
 "cells": [
  {
   "cell_type": "markdown",
   "metadata": {},
   "source": [
    "# pre-processing"
   ]
  },
  {
   "cell_type": "code",
   "execution_count": 11,
   "metadata": {},
   "outputs": [
    {
     "name": "stderr",
     "output_type": "stream",
     "text": [
      "C:\\Users\\zigi\\Anaconda3\\lib\\site-packages\\pandas\\core\\indexing.py:189: SettingWithCopyWarning: \n",
      "A value is trying to be set on a copy of a slice from a DataFrame\n",
      "\n",
      "See the caveats in the documentation: http://pandas.pydata.org/pandas-docs/stable/indexing.html#indexing-view-versus-copy\n",
      "  self._setitem_with_indexer(indexer, value)\n"
     ]
    }
   ],
   "source": [
    "#enable autocomplete\n",
    "%config IPCompleter.greedy=True \n",
    "\n",
    "#load packages\n",
    "import sys #access to system parameters\n",
    "import pandas as pd\n",
    "import numpy as np\n",
    "import matplotlib.pyplot as plt\n",
    "import seaborn as sns\n",
    "#load data\n",
    "file_path = r\"titanic_train.csv\"\n",
    "data = pd.read_csv(file_path)\n",
    "#complete missing age with median\n",
    "data['Age'].fillna(data['Age'].median(), inplace = True)\n",
    "\n",
    "#complete missing fare with median\n",
    "data['Fare'].fillna(data['Fare'].median(), inplace = True)\n",
    "\n",
    "#complete embarked with mode\n",
    "data['Embarked'].fillna(data['Embarked'].mode()[0], inplace = True)\n",
    "\n",
    "#complete Cabin with mode\n",
    "data['Cabin'].fillna(data['Cabin'].mode()[0], inplace = True)\n",
    "\n",
    "data['FamilySize'] = data['SibSp'] + data['Parch'] + 1\n",
    "\n",
    "data['IsAlone'] = 1 #initialize to yes/1 is alone\n",
    "data['IsAlone'].loc[data['FamilySize'] > 1] = 0\n",
    "\n",
    "def my_regex(x):\n",
    "    try:\n",
    "        num = re.search(r'[0-9]+',x)\n",
    "        return num.group(0)\n",
    "    except:\n",
    "        return 0\n",
    "    return \n",
    "\n",
    "data['Cabin Num'] = data.Cabin.apply(lambda x : my_regex(x))    \n",
    "#data.head()  \n",
    "\n",
    "x = data[['Cabin Num','IsAlone','FamilySize','Parch','SibSp','Age','Survived']]\n",
    "\n",
    "y = data.Fare"
   ]
  },
  {
   "cell_type": "markdown",
   "metadata": {},
   "source": [
    "# train test val split"
   ]
  },
  {
   "cell_type": "code",
   "execution_count": 12,
   "metadata": {},
   "outputs": [],
   "source": [
    "#https://scikit-learn.org/stable/modules/generated/sklearn.model_selection.train_test_split.html\n",
    "\n",
    "from sklearn.model_selection import train_test_split\n",
    "\n",
    "x_train, x_test, y_train, y_test = train_test_split(x, y, test_size=0.2, random_state=42)\n",
    "x_train, x_val, y_train, y_val = train_test_split(x_train, y_train, test_size=0.2, random_state=42)"
   ]
  },
  {
   "cell_type": "markdown",
   "metadata": {},
   "source": [
    "# Linear Regression"
   ]
  },
  {
   "cell_type": "code",
   "execution_count": 24,
   "metadata": {},
   "outputs": [
    {
     "name": "stdout",
     "output_type": "stream",
     "text": [
      "Linear Regression Score\n",
      "0.2055942341162006\n",
      "\n",
      "\n",
      "Linear Regression coefficient\n",
      "[  0.         -16.29800063   3.76885275   4.63955978  -0.87070703\n",
      "   0.68310994  23.55241546]\n",
      "\n",
      "\n",
      "Linear Regression intercept\n",
      "5.169925459011463\n",
      "\n",
      "\n"
     ]
    }
   ],
   "source": [
    "#https://scikit-learn.org/stable/modules/generated/sklearn.linear_model.LinearRegression.html\n",
    "from sklearn.linear_model import LinearRegression\n",
    "\n",
    "reg = LinearRegression().fit(x_train, y_train)\n",
    "\n",
    "print(\"Linear Regression Score\")\n",
    "print(reg.score(x_test, y_test))\n",
    "print(\"\\n\")\n",
    "\n",
    "print(\"Linear Regression coefficient\")\n",
    "print(reg.coef_)\n",
    "print(\"\\n\")\n",
    "\n",
    "print(\"Linear Regression intercept\")\n",
    "print(reg.intercept_ )\n",
    "print(\"\\n\")\n",
    "\n",
    "\n",
    "y_pred = reg.predict(x_test)"
   ]
  },
  {
   "cell_type": "code",
   "execution_count": 28,
   "metadata": {},
   "outputs": [
    {
     "data": {
      "image/png": "[encoded data removed]",
      "text/plain": [
       "<Figure size 432x288 with 1 Axes>"
      ]
     },
     "metadata": {
      "needs_background": "light"
     },
     "output_type": "display_data"
    }
   ],
   "source": [
    "#plot results\n",
    "\n",
    "x_range = [i for i in range(100)]\n",
    "y_line_list = list()\n",
    "for i in x_range:\n",
    "    y_line = reg.coef_[5]*i + reg.intercept_\n",
    "    y_line_list.append(y_line)\n",
    "    \n",
    "\n",
    "plt.plot(x_test['Age'],y_test,'o')\n",
    "plt.plot(x_test['Age'],y_pred,'o')\n",
    "plt.plot(x_range,y_line_list)\n",
    "plt.xlabel('Age')\n",
    "plt.ylabel('Fare')\n",
    "plt.legend(['Fare','predicted Fare','Regression Line'])\n",
    "plt.show()"
   ]
  },
  {
   "cell_type": "markdown",
   "metadata": {},
   "source": [
    "# Ridge Regression"
   ]
  },
  {
   "cell_type": "code",
   "execution_count": 63,
   "metadata": {},
   "outputs": [
    {
     "name": "stdout",
     "output_type": "stream",
     "text": [
      "Ridge Regression Score\n",
      "0.12097247420422597\n",
      "\n",
      "\n",
      "Ridge Regression coefficient\n",
      "[ 0.         -2.35042716  3.6409154   2.43217433  1.20874106  0.5932929\n",
      "  3.16138129]\n",
      "\n",
      "\n",
      "Ridge Regression intercept\n",
      "7.0011972304487315\n",
      "\n",
      "\n"
     ]
    }
   ],
   "source": [
    "#https://scikit-learn.org/stable/modules/generated/sklearn.linear_model.Ridge.html\n",
    "from sklearn.linear_model import Ridge\n",
    "\n",
    "ridge = Ridge(alpha=1000.0)\n",
    "\n",
    "ridge.fit(x_train,y_train)\n",
    "\n",
    "print(\"Ridge Regression Score\")\n",
    "print(ridge.score(x_test, y_test))\n",
    "print(\"\\n\")\n",
    "\n",
    "print(\"Ridge Regression coefficient\")\n",
    "print(ridge.coef_)\n",
    "print(\"\\n\")\n",
    "\n",
    "print(\"Ridge Regression intercept\")\n",
    "print(ridge.intercept_ )\n",
    "print(\"\\n\")\n",
    "\n",
    "\n",
    "y_pred = ridge.predict(x_test)"
   ]
  },
  {
   "cell_type": "code",
   "execution_count": 69,
   "metadata": {},
   "outputs": [
    {
     "data": {
      "image/png": "[encoded data removed]",
      "text/plain": [
       "<Figure size 432x288 with 1 Axes>"
      ]
     },
     "metadata": {
      "needs_background": "light"
     },
     "output_type": "display_data"
    },
    {
     "name": "stdout",
     "output_type": "stream",
     "text": [
      "min score: 0.01418019224306799\n"
     ]
    }
   ],
   "source": [
    "#regularization - alpha\n",
    "ridge_score_list = list()\n",
    "for i in range(1,100000,100):\n",
    "\n",
    "    ridge = Ridge(alpha=i)\n",
    "\n",
    "    ridge.fit(x_train,y_train)\n",
    "\n",
    "    ridge_score_list.append(ridge.score(x_test, y_test))\n",
    "\n",
    "plt.plot([i for i in range(1,100000,100)],ridge_score_list)\n",
    "plt.xlabel(\"alpha\")\n",
    "plt.ylabel(\"score\")\n",
    "plt.show()\n",
    "\n",
    "print(\"min score: \" + str(ridge_score_list[-1]))"
   ]
  },
  {
   "cell_type": "markdown",
   "metadata": {},
   "source": [
    "# Lasso Regression"
   ]
  },
  {
   "cell_type": "code",
   "execution_count": 52,
   "metadata": {},
   "outputs": [
    {
     "name": "stdout",
     "output_type": "stream",
     "text": [
      "Lasso Regression Score\n",
      "0.07683904852152257\n",
      "\n",
      "\n",
      "Lasso Regression coefficient\n",
      "[ 0.         -0.          4.4216933   0.          0.          0.49746839\n",
      "  0.        ]\n",
      "\n",
      "\n",
      "Lasso Regression intercept\n",
      "9.6738855164453\n",
      "\n",
      "\n"
     ]
    }
   ],
   "source": [
    "#https://scikit-learn.org/stable/modules/generated/sklearn.linear_model.Lasso.html\n",
    "from sklearn.linear_model import Lasso\n",
    "\n",
    "lasso = Lasso(alpha=10.0)\n",
    "\n",
    "lasso.fit(x_train,y_train)\n",
    "\n",
    "print(\"Lasso Regression Score\")\n",
    "print(lasso.score(x_test, y_test))\n",
    "print(\"\\n\")\n",
    "\n",
    "print(\"Lasso Regression coefficient\")\n",
    "print(lasso.coef_)\n",
    "print(\"\\n\")\n",
    "\n",
    "print(\"Lasso Regression intercept\")\n",
    "print(lasso.intercept_ )\n",
    "print(\"\\n\")\n",
    "\n",
    "\n",
    "y_pred = lasso.predict(x_test)"
   ]
  },
  {
   "cell_type": "code",
   "execution_count": 85,
   "metadata": {},
   "outputs": [
    {
     "data": {
      "image/png": "[encoded data removed]",
      "text/plain": [
       "<Figure size 432x288 with 1 Axes>"
      ]
     },
     "metadata": {
      "needs_background": "light"
     },
     "output_type": "display_data"
    },
    {
     "name": "stdout",
     "output_type": "stream",
     "text": [
      "min score: 0.00162600044946426\n"
     ]
    }
   ],
   "source": [
    "#regularization - alpha\n",
    "lasso_score_list = list()\n",
    "for i in range(1,200,1):\n",
    "\n",
    "    lasso = Lasso(alpha=i)\n",
    "\n",
    "    lasso.fit(x_train,y_train)\n",
    "\n",
    "    lasso_score_list.append(lasso.score(x_test, y_test))\n",
    "\n",
    "plt.plot([i for i in range(1,200,1)],lasso_score_list)\n",
    "plt.xlabel(\"alpha\")\n",
    "plt.ylabel(\"score\")\n",
    "plt.show()\n",
    "\n",
    "print(\"min score: \" + str(lasso_score_list[60]))"
   ]
  },
  {
   "cell_type": "markdown",
   "metadata": {},
   "source": [
    "# ElasticNet Regression"
   ]
  },
  {
   "cell_type": "code",
   "execution_count": 60,
   "metadata": {},
   "outputs": [
    {
     "name": "stdout",
     "output_type": "stream",
     "text": [
      "ElasticNet Regression Score\n",
      "0.060133065833424586\n",
      "\n",
      "\n",
      "ElasticNet Regression coefficient\n",
      "[ 0.         -0.24911003  2.07539028  0.58392416  0.49147016  0.45907649\n",
      "  0.26975831]\n",
      "\n",
      "\n",
      "ElasticNet Regression intercept\n",
      "14.974767296200497\n",
      "\n",
      "\n"
     ]
    }
   ],
   "source": [
    "#https://scikit-learn.org/stable/modules/generated/sklearn.linear_model.ElasticNet.html\n",
    "from sklearn.linear_model import ElasticNet\n",
    "\n",
    "regr = ElasticNet(alpha=10)\n",
    "\n",
    "regr.fit(x_train,y_train)\n",
    "\n",
    "print(\"ElasticNet Regression Score\")\n",
    "print(regr.score(x_test, y_test))\n",
    "print(\"\\n\")\n",
    "\n",
    "print(\"ElasticNet Regression coefficient\")\n",
    "print(regr.coef_)\n",
    "print(\"\\n\")\n",
    "\n",
    "print(\"ElasticNet Regression intercept\")\n",
    "print(regr.intercept_ )\n",
    "print(\"\\n\")\n",
    "\n",
    "\n",
    "y_pred = regr.predict(x_test)"
   ]
  },
  {
   "cell_type": "code",
   "execution_count": 96,
   "metadata": {},
   "outputs": [
    {
     "data": {
      "image/png": "[encoded data removed]",
      "text/plain": [
       "<Figure size 432x288 with 1 Axes>"
      ]
     },
     "metadata": {
      "needs_background": "light"
     },
     "output_type": "display_data"
    },
    {
     "name": "stdout",
     "output_type": "stream",
     "text": [
      "min score: 0.0006606396193225006\n"
     ]
    }
   ],
   "source": [
    "#regularization - alpha\n",
    "ElasticNet_score_list = list()\n",
    "for i in range(1,200,1):\n",
    "\n",
    "    regr = ElasticNet(alpha=i)\n",
    "\n",
    "    regr.fit(x_train,y_train)\n",
    "\n",
    "    ElasticNet_score_list.append(regr.score(x_test, y_test))\n",
    "\n",
    "plt.plot([i for i in range(1,200,1)],ElasticNet_score_list)\n",
    "plt.xlabel(\"alpha\")\n",
    "plt.ylabel(\"score\")\n",
    "plt.show()\n",
    "\n",
    "print(\"min score: \" + str(ElasticNet_score_list[120]))"
   ]
  },
  {
   "cell_type": "code",
   "execution_count": 102,
   "metadata": {},
   "outputs": [
    {
     "name": "stdout",
     "output_type": "stream",
     "text": [
      "ElasticNet prediction on Validation set\n",
      "0.06365691222333147\n"
     ]
    },
    {
     "name": "stderr",
     "output_type": "stream",
     "text": [
      "C:\\Users\\zigi\\Anaconda3\\lib\\site-packages\\sklearn\\linear_model\\coordinate_descent.py:492: ConvergenceWarning: Objective did not converge. You might want to increase the number of iterations. Fitting data with very small alpha may cause precision problems.\n",
      "  ConvergenceWarning)\n"
     ]
    }
   ],
   "source": [
    "#Validation\n",
    "\n",
    "regr = ElasticNet(alpha=ElasticNet_score_list[120])\n",
    "regr.fit(x_train,y_train)\n",
    "\n",
    "print(\"ElasticNet prediction on Validation set\")\n",
    "print(regr.score(x_val, y_val))"
   ]
  },
  {
   "cell_type": "code",
   "execution_count": null,
   "metadata": {},
   "outputs": [],
   "source": []
  }
 ],
 "metadata": {
  "kernelspec": {
   "display_name": "Python 3",
   "language": "python",
   "name": "python3"
  },
  "language_info": {
   "codemirror_mode": {
    "name": "ipython",
    "version": 3
   },
   "file_extension": ".py",
   "mimetype": "text/x-python",
   "name": "python",
   "nbconvert_exporter": "python",
   "pygments_lexer": "ipython3",
   "version": "3.7.1"
  }
 },
 "nbformat": 4,
 "nbformat_minor": 2
}
