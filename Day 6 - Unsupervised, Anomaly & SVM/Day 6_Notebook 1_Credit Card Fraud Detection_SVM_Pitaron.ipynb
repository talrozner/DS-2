{
 "cells": [
  {
   "cell_type": "markdown",
   "metadata": {},
   "source": [
    "# Credit Card Fraud Detection"
   ]
  },
  {
   "cell_type": "code",
   "execution_count": 13,
   "metadata": {},
   "outputs": [],
   "source": [
    "import pandas as pd\n",
    "import numpy as np\n",
    "%config IPCompleter.greedy=True #autocomplete jupyter"
   ]
  },
  {
   "cell_type": "code",
   "execution_count": 14,
   "metadata": {},
   "outputs": [],
   "source": [
    "file_path = \"creditcard.csv\"\n",
    "data = pd.read_csv(file_path)"
   ]
  },
  {
   "cell_type": "code",
   "execution_count": 15,
   "metadata": {},
   "outputs": [
    {
     "data": {
      "text/plain": [
       "Index(['Time', 'V1', 'V2', 'V3', 'V4', 'V5', 'V6', 'V7', 'V8', 'V9', 'V10',\n",
       "       'V11', 'V12', 'V13', 'V14', 'V15', 'V16', 'V17', 'V18', 'V19', 'V20',\n",
       "       'V21', 'V22', 'V23', 'V24', 'V25', 'V26', 'V27', 'V28', 'Amount',\n",
       "       'Class'],\n",
       "      dtype='object')"
      ]
     },
     "execution_count": 15,
     "metadata": {},
     "output_type": "execute_result"
    }
   ],
   "source": [
    "data.columns"
   ]
  },
  {
   "cell_type": "code",
   "execution_count": 16,
   "metadata": {},
   "outputs": [
    {
     "data": {
      "text/plain": [
       "0    149.62\n",
       "1      2.69\n",
       "2    378.66\n",
       "3    123.50\n",
       "4     69.99\n",
       "Name: Amount, dtype: float64"
      ]
     },
     "execution_count": 16,
     "metadata": {},
     "output_type": "execute_result"
    }
   ],
   "source": [
    "data.Amount.head(n=5)"
   ]
  },
  {
   "cell_type": "code",
   "execution_count": 17,
   "metadata": {},
   "outputs": [
    {
     "data": {
      "text/plain": [
       "492"
      ]
     },
     "execution_count": 17,
     "metadata": {},
     "output_type": "execute_result"
    }
   ],
   "source": [
    "len(data.Class[data.Class==1])"
   ]
  },
  {
   "cell_type": "code",
   "execution_count": 18,
   "metadata": {},
   "outputs": [],
   "source": [
    "#index_drop = data.Class[data.Class==0].index[:(492-482)]"
   ]
  },
  {
   "cell_type": "code",
   "execution_count": 19,
   "metadata": {},
   "outputs": [
    {
     "data": {
      "text/plain": [
       "284315"
      ]
     },
     "execution_count": 19,
     "metadata": {},
     "output_type": "execute_result"
    }
   ],
   "source": [
    "len(data.Class[data.Class==0])"
   ]
  },
  {
   "cell_type": "code",
   "execution_count": 20,
   "metadata": {},
   "outputs": [],
   "source": [
    "index_drop = data.Class[data.Class==0].index[:(284315-20000)]"
   ]
  },
  {
   "cell_type": "code",
   "execution_count": 21,
   "metadata": {},
   "outputs": [],
   "source": [
    "data.drop(index_drop,axis=0,inplace=True)"
   ]
  },
  {
   "cell_type": "markdown",
   "metadata": {},
   "source": [
    "## Train Test Split"
   ]
  },
  {
   "cell_type": "code",
   "execution_count": 22,
   "metadata": {},
   "outputs": [],
   "source": [
    "x = data.drop('Class',axis=1)\n",
    "\n",
    "y = data.Class\n",
    "\n",
    "from sklearn.model_selection import train_test_split\n",
    "x_train, x_test, y_train, y_test = train_test_split(x, y, test_size=0.2, random_state=42)\n",
    "x_train, x_val, y_train, y_val = train_test_split(x_train, y_train, test_size=0.2, random_state=1)"
   ]
  },
  {
   "cell_type": "markdown",
   "metadata": {},
   "source": [
    "## Random Forest"
   ]
  },
  {
   "cell_type": "code",
   "execution_count": 43,
   "metadata": {},
   "outputs": [
    {
     "name": "stdout",
     "output_type": "stream",
     "text": [
      "train F1_Score - 1.0\n",
      "test F1_Score - 0.9891304347826086\n"
     ]
    }
   ],
   "source": [
    "from sklearn.ensemble import RandomForestClassifier\n",
    "from sklearn.metrics import f1_score\n",
    "\n",
    "#random_forest = RandomForestClassifier(n_estimators=100,max_depth = 5 , min_samples_split = 0.1 , min_samples_leaf = 0.05 , max_features = 0.05)\n",
    "random_forest = RandomForestClassifier(n_estimators=1000)\n",
    "random_forest = random_forest.fit(x_train, y_train)\n",
    "\n",
    "y_pred_train = random_forest.predict(x_train)\n",
    "y_pred_test = random_forest.predict(x_test)\n",
    "\n",
    "\n",
    "print(\"train F1_Score - \" + str(f1_score(y_train, y_pred_train)))\n",
    "\n",
    "print(\"test F1_Score - \" + str(f1_score(y_test, y_pred_test)))"
   ]
  },
  {
   "cell_type": "code",
   "execution_count": 44,
   "metadata": {},
   "outputs": [
    {
     "data": {
      "text/plain": [
       "array([[4006,    1],\n",
       "       [   1,   91]], dtype=int64)"
      ]
     },
     "execution_count": 44,
     "metadata": {},
     "output_type": "execute_result"
    }
   ],
   "source": [
    "from sklearn.metrics import confusion_matrix\n",
    "confusion_matrix(y_test,y_pred_test)"
   ]
  },
  {
   "cell_type": "code",
   "execution_count": 45,
   "metadata": {},
   "outputs": [
    {
     "name": "stdout",
     "output_type": "stream",
     "text": [
      "[[4006    1]\n",
      " [   1   91]]\n",
      "\n",
      "\n",
      "True Negative = 4006\n",
      "False Positive = 1\n",
      "False Negative = 1\n",
      "True Positive = 91\n",
      "\n",
      "\n"
     ]
    }
   ],
   "source": [
    "\n",
    "print(confusion_matrix(y_test, y_pred_test))\n",
    "print(\"\\n\")\n",
    "\n",
    "tn, fp, fn, tp = confusion_matrix(y_test, y_pred_test).ravel()\n",
    "print(\"True Negative = \" + str(tn))\n",
    "print(\"False Positive = \" + str(fp))\n",
    "print(\"False Negative = \" + str(fn))\n",
    "print(\"True Positive = \" + str(tp))\n",
    "print(\"\\n\")"
   ]
  },
  {
   "cell_type": "markdown",
   "metadata": {},
   "source": [
    "# SVM"
   ]
  },
  {
   "cell_type": "code",
   "execution_count": 46,
   "metadata": {},
   "outputs": [
    {
     "name": "stdout",
     "output_type": "stream",
     "text": [
      "train F1_Score - 0.9737704918032787\n",
      "test F1_Score - 0.9666666666666666\n"
     ]
    }
   ],
   "source": [
    "from sklearn import svm\n",
    "classifier = svm.SVC(kernel='linear')\n",
    "\n",
    "classifier = classifier.fit(x_train, y_train)\n",
    "\n",
    "y_pred_train = classifier.predict(x_train)\n",
    "y_pred_test = classifier.predict(x_test)\n",
    "\n",
    "\n",
    "print(\"train F1_Score - \" + str(f1_score(y_train, y_pred_train)))\n",
    "\n",
    "print(\"test F1_Score - \" + str(f1_score(y_test, y_pred_test)))"
   ]
  },
  {
   "cell_type": "code",
   "execution_count": 47,
   "metadata": {},
   "outputs": [
    {
     "name": "stdout",
     "output_type": "stream",
     "text": [
      "[[4006    1]\n",
      " [   5   87]]\n",
      "\n",
      "\n",
      "True Negative = 4006\n",
      "False Positive = 1\n",
      "False Negative = 5\n",
      "True Positive = 87\n",
      "\n",
      "\n"
     ]
    }
   ],
   "source": [
    "from sklearn.metrics import confusion_matrix\n",
    "print(confusion_matrix(y_test, y_pred_test))\n",
    "print(\"\\n\")\n",
    "\n",
    "tn, fp, fn, tp = confusion_matrix(y_test, y_pred_test).ravel()\n",
    "print(\"True Negative = \" + str(tn))\n",
    "print(\"False Positive = \" + str(fp))\n",
    "print(\"False Negative = \" + str(fn))\n",
    "print(\"True Positive = \" + str(tp))\n",
    "print(\"\\n\")\n",
    "\n"
   ]
  },
  {
   "cell_type": "code",
   "execution_count": 48,
   "metadata": {},
   "outputs": [
    {
     "data": {
      "image/png": "[encoded data removed]",
      "text/plain": [
       "<Figure size 432x288 with 1 Axes>"
      ]
     },
     "metadata": {
      "needs_background": "light"
     },
     "output_type": "display_data"
    },
    {
     "data": {
      "image/png": "[encoded data removed]",
      "text/plain": [
       "<Figure size 432x288 with 1 Axes>"
      ]
     },
     "metadata": {
      "needs_background": "light"
     },
     "output_type": "display_data"
    }
   ],
   "source": [
    "from matplotlib import pyplot as plt\n",
    "from mpl_toolkits.mplot3d import Axes3D\n",
    "#https://scikit-learn.org/stable/modules/generated/sklearn.decomposition.PCA.html\n",
    "from sklearn.decomposition import PCA\n",
    "pca = PCA(n_components=2)\n",
    "pca.fit(x_train)  \n",
    "x_pca = pca.transform(x_train)\n",
    "\n",
    "#2D plot\n",
    "#plt.scatter(x_pca[:,0],x_pca[:,1],c=y_train)\n",
    "plt.scatter(x_pca[:,0],x_pca[:,1],c=y_pred_train)\n",
    "plt.show()\n",
    "\n",
    "pca = PCA(n_components=3)\n",
    "pca.fit(x)  \n",
    "x_pca = pca.transform(x_train)\n",
    "\n",
    "#https://stackoverflow.com/questions/1985856/how-to-make-a-3d-scatter-plot-in-python\n",
    "#3D plot\n",
    "from mpl_toolkits.mplot3d import Axes3D\n",
    "\n",
    "fig = plt.figure()\n",
    "ax = Axes3D(fig)\n",
    "#ax.scatter(x_pca[:,0],x_pca[:,1],x_pca[:,2],c=y_train)\n",
    "ax.scatter(x_pca[:,0],x_pca[:,1],x_pca[:,2],c=y_pred_train)\n",
    "plt.show()"
   ]
  },
  {
   "cell_type": "markdown",
   "metadata": {},
   "source": [
    "## DBSCAN"
   ]
  },
  {
   "cell_type": "code",
   "execution_count": 49,
   "metadata": {},
   "outputs": [
    {
     "name": "stdout",
     "output_type": "stream",
     "text": [
      "F1_Score - 0.9641318092363403\n"
     ]
    },
    {
     "name": "stderr",
     "output_type": "stream",
     "text": [
      "C:\\Users\\zigi\\Anaconda3\\lib\\site-packages\\sklearn\\metrics\\classification.py:1143: UndefinedMetricWarning: F-score is ill-defined and being set to 0.0 in labels with no predicted samples.\n",
      "  'precision', 'predicted', average, warn_for)\n"
     ]
    }
   ],
   "source": [
    "from sklearn.cluster import DBSCAN\n",
    "\n",
    "dbscan = DBSCAN(eps=100000, min_samples=2).fit(x)#, min_samples=2\n",
    "y_pred = dbscan.labels_\n",
    "\n",
    "\n",
    "cluster_center = dbscan.components_\n",
    "cluster_center.shape\n",
    "\n",
    "print(\"F1_Score - \" + str(f1_score(y, y_pred,average=\"weighted\")))"
   ]
  },
  {
   "cell_type": "code",
   "execution_count": 56,
   "metadata": {},
   "outputs": [
    {
     "name": "stdout",
     "output_type": "stream",
     "text": [
      "[[20000     0]\n",
      " [  492     0]]\n",
      "True Negative = 20000\n",
      "False Positive = 0\n",
      "False Negative = 492\n",
      "True Positive = 0\n",
      "\n",
      "\n"
     ]
    }
   ],
   "source": [
    "from sklearn.metrics import confusion_matrix\n",
    "print(confusion_matrix(y, y_pred))\n",
    "\n",
    "\n",
    "tn, fp, fn, tp = confusion_matrix(y, y_pred).ravel()\n",
    "print(\"True Negative = \" + str(tn))\n",
    "print(\"False Positive = \" + str(fp))\n",
    "print(\"False Negative = \" + str(fn))\n",
    "print(\"True Positive = \" + str(tp))\n",
    "print(\"\\n\")"
   ]
  },
  {
   "cell_type": "code",
   "execution_count": 51,
   "metadata": {},
   "outputs": [
    {
     "data": {
      "image/png": "[encoded data removed]",
      "text/plain": [
       "<Figure size 432x288 with 1 Axes>"
      ]
     },
     "metadata": {
      "needs_background": "light"
     },
     "output_type": "display_data"
    },
    {
     "data": {
      "text/plain": [
       "\"\\npca = PCA(n_components=3)\\npca.fit(x)  \\nx_pca = pca.transform(x)\\n\\npca_cluster_center = PCA(n_components=3)\\npca_cluster_center.fit(cluster_center)  \\npca_cluster_center = pca_cluster_center.transform(cluster_center)\\n\\n#3D plot\\nfig = plt.figure()\\nax = Axes3D(fig)\\nax.scatter(x_pca[:,0],x_pca[:,1],x_pca[:,2],c=y_pred,s = size_y)\\n#ax.scatter(x_pca[:,0],x_pca[:,1],x_pca[:,2],c=y,alpha=0.01, edgecolor='black', linewidth=10,s=10)\\n#plt.scatter(pca_cluster_center[:,0],pca_cluster_center[:,1],pca_cluster_center[:,2],alpha=0.5, linewidth=100)\\nplt.show()\\n\""
      ]
     },
     "execution_count": 51,
     "metadata": {},
     "output_type": "execute_result"
    }
   ],
   "source": [
    "#check result using PCA\n",
    "\n",
    "pca = PCA(n_components=2)\n",
    "pca.fit(x)  \n",
    "x_pca = pca.transform(x)\n",
    "\n",
    "pca_cluster_center = PCA(n_components=2)\n",
    "pca_cluster_center.fit(cluster_center)  \n",
    "pca_cluster_center = pca_cluster_center.transform(cluster_center)\n",
    "\n",
    "size_y = (y + 1)*50\n",
    "\n",
    "\n",
    "\n",
    "#2D plot\n",
    "plt.scatter(x_pca[:,0],x_pca[:,1],c=y_pred+50)#,s = size_y,alpha=0.1)\n",
    "#plt.scatter(x_pca[:,0],x_pca[:,1],c=y,alpha=0.01, edgecolor='black', linewidth=10,s=10)\n",
    "#plt.scatter(pca_cluster_center[:,0],pca_cluster_center[:,1],s = 10,alpha=0.5, linewidth=100)\n",
    "plt.show()\n",
    "\n",
    "'''\n",
    "pca = PCA(n_components=3)\n",
    "pca.fit(x)  \n",
    "x_pca = pca.transform(x)\n",
    "\n",
    "pca_cluster_center = PCA(n_components=3)\n",
    "pca_cluster_center.fit(cluster_center)  \n",
    "pca_cluster_center = pca_cluster_center.transform(cluster_center)\n",
    "\n",
    "#3D plot\n",
    "fig = plt.figure()\n",
    "ax = Axes3D(fig)\n",
    "ax.scatter(x_pca[:,0],x_pca[:,1],x_pca[:,2],c=y_pred,s = size_y)\n",
    "#ax.scatter(x_pca[:,0],x_pca[:,1],x_pca[:,2],c=y,alpha=0.01, edgecolor='black', linewidth=10,s=10)\n",
    "#plt.scatter(pca_cluster_center[:,0],pca_cluster_center[:,1],pca_cluster_center[:,2],alpha=0.5, linewidth=100)\n",
    "plt.show()\n",
    "'''"
   ]
  },
  {
   "cell_type": "code",
   "execution_count": 52,
   "metadata": {},
   "outputs": [
    {
     "name": "stdout",
     "output_type": "stream",
     "text": [
      "[[20000     0]\n",
      " [  492     0]]\n",
      "\n",
      "\n",
      "True Negative = 20000\n",
      "False Positive = 0\n",
      "False Negative = 492\n",
      "True Positive = 0\n",
      "\n",
      "\n"
     ]
    }
   ],
   "source": [
    "from sklearn.metrics import confusion_matrix\n",
    "print(confusion_matrix(y, y_pred))\n",
    "print(\"\\n\")\n",
    "\n",
    "tn, fp, fn, tp = confusion_matrix(y, y_pred).ravel()\n",
    "print(\"True Negative = \" + str(tn))\n",
    "print(\"False Positive = \" + str(fp))\n",
    "print(\"False Negative = \" + str(fn))\n",
    "print(\"True Positive = \" + str(tp))\n",
    "print(\"\\n\")"
   ]
  },
  {
   "cell_type": "code",
   "execution_count": null,
   "metadata": {},
   "outputs": [],
   "source": []
  }
 ],
 "metadata": {
  "kernelspec": {
   "display_name": "Python 3",
   "language": "python",
   "name": "python3"
  },
  "language_info": {
   "codemirror_mode": {
    "name": "ipython",
    "version": 3
   },
   "file_extension": ".py",
   "mimetype": "text/x-python",
   "name": "python",
   "nbconvert_exporter": "python",
   "pygments_lexer": "ipython3",
   "version": "3.7.1"
  }
 },
 "nbformat": 4,
 "nbformat_minor": 2
}
