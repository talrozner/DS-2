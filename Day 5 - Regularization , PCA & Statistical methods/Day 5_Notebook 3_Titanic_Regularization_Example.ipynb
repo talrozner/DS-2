{
 "cells": [
  {
   "cell_type": "markdown",
   "metadata": {},
   "source": [
    "# pre-processing"
   ]
  },
  {
   "cell_type": "code",
   "execution_count": 1,
   "metadata": {},
   "outputs": [
    {
     "name": "stderr",
     "output_type": "stream",
     "text": [
      "C:\\Users\\zigi\\Anaconda3\\lib\\site-packages\\pandas\\core\\indexing.py:189: SettingWithCopyWarning: \n",
      "A value is trying to be set on a copy of a slice from a DataFrame\n",
      "\n",
      "See the caveats in the documentation: http://pandas.pydata.org/pandas-docs/stable/indexing.html#indexing-view-versus-copy\n",
      "  self._setitem_with_indexer(indexer, value)\n"
     ]
    }
   ],
   "source": [
    "#enable autocomplete\n",
    "%config IPCompleter.greedy=True \n",
    "\n",
    "#load packages\n",
    "import sys #access to system parameters\n",
    "import pandas as pd\n",
    "import numpy as np\n",
    "import matplotlib.pyplot as plt\n",
    "import seaborn as sns\n",
    "#load data\n",
    "file_path = r\"titanic_train.csv\"\n",
    "data = pd.read_csv(file_path)\n",
    "#complete missing age with median\n",
    "data['Age'].fillna(data['Age'].median(), inplace = True)\n",
    "\n",
    "#complete missing fare with median\n",
    "data['Fare'].fillna(data['Fare'].median(), inplace = True)\n",
    "\n",
    "#complete embarked with mode\n",
    "data['Embarked'].fillna(data['Embarked'].mode()[0], inplace = True)\n",
    "\n",
    "#complete Cabin with mode\n",
    "data['Cabin'].fillna(data['Cabin'].mode()[0], inplace = True)\n",
    "\n",
    "data['FamilySize'] = data['SibSp'] + data['Parch'] + 1\n",
    "\n",
    "data['IsAlone'] = 1 #initialize to yes/1 is alone\n",
    "data['IsAlone'].loc[data['FamilySize'] > 1] = 0\n",
    "\n",
    "def my_regex(x):\n",
    "    try:\n",
    "        num = re.search(r'[0-9]+',x)\n",
    "        return num.group(0)\n",
    "    except:\n",
    "        return 0\n",
    "    return \n",
    "\n",
    "data['Cabin Num'] = data.Cabin.apply(lambda x : my_regex(x))    \n",
    "#data.head()  \n",
    "\n",
    "x = data[['Cabin Num','IsAlone','FamilySize','Parch','SibSp','Age']]\n",
    "\n",
    "y = data.Survived"
   ]
  },
  {
   "cell_type": "markdown",
   "metadata": {},
   "source": [
    "# Split Training and Testing Data"
   ]
  },
  {
   "cell_type": "code",
   "execution_count": 4,
   "metadata": {},
   "outputs": [],
   "source": [
    "from sklearn.model_selection import train_test_split\n",
    "x_train, x_test, y_train, y_test = train_test_split(x, y, test_size=0.2, random_state=42)\n",
    "x_train, x_val, y_train, y_val = train_test_split(x_train, y_train, test_size=0.2, random_state=42)"
   ]
  },
  {
   "cell_type": "markdown",
   "metadata": {},
   "source": [
    "# Ovefit & Bias"
   ]
  },
  {
   "cell_type": "code",
   "execution_count": 8,
   "metadata": {},
   "outputs": [
    {
     "data": {
      "image/png": "[encoded data removed]",
      "text/plain": [
       "<Figure size 432x288 with 1 Axes>"
      ]
     },
     "metadata": {
      "needs_background": "light"
     },
     "output_type": "display_data"
    }
   ],
   "source": [
    "from sklearn.tree import DecisionTreeClassifier\n",
    "from sklearn.metrics import accuracy_score\n",
    "\n",
    "#max_depth\n",
    "max_depth = [1,2,5,10,20,30,50,100,300,500,600,800,1000,None]\n",
    "accuracy_score_train_list = list()\n",
    "accuracy_score_test_list = list()\n",
    "for i in max_depth:\n",
    "\n",
    "    decision_tree = DecisionTreeClassifier(max_depth = i)\n",
    "    decision_tree = decision_tree.fit(x_train, y_train)\n",
    "\n",
    "    y_pred_train = decision_tree.predict(x_train)\n",
    "    y_pred_test = decision_tree.predict(x_test)\n",
    "\n",
    "    accuracy_score_train_list.append(accuracy_score(y_train, y_pred_train))\n",
    "    accuracy_score_test_list.append(accuracy_score(y_test, y_pred_test))\n",
    "    \n",
    "plt.plot(max_depth,accuracy_score_train_list,'o')\n",
    "plt.plot(max_depth,accuracy_score_test_list,'o')\n",
    "plt.xlabel(\"max_depth\")\n",
    "plt.ylabel(\"accuracy_score\")\n",
    "plt.legend(['train accuracy','test accuracy'])\n",
    "plt.show()"
   ]
  },
  {
   "cell_type": "code",
   "execution_count": null,
   "metadata": {},
   "outputs": [],
   "source": []
  }
 ],
 "metadata": {
  "kernelspec": {
   "display_name": "Python 3",
   "language": "python",
   "name": "python3"
  },
  "language_info": {
   "codemirror_mode": {
    "name": "ipython",
    "version": 3
   },
   "file_extension": ".py",
   "mimetype": "text/x-python",
   "name": "python",
   "nbconvert_exporter": "python",
   "pygments_lexer": "ipython3",
   "version": "3.7.1"
  }
 },
 "nbformat": 4,
 "nbformat_minor": 2
}
