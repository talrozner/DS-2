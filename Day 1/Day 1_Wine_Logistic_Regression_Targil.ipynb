{
 "cells": [
  {
   "cell_type": "markdown",
   "metadata": {},
   "source": [
    "# wine logistic regression"
   ]
  },
  {
   "cell_type": "code",
   "execution_count": 2,
   "metadata": {},
   "outputs": [],
   "source": [
    "#import\n",
    "import pandas as pd\n",
    "import numpy as np\n",
    "import matplotlib.pyplot as plt\n",
    "from sklearn.linear_model import LogisticRegression\n",
    "from sklearn import datasets\n",
    "\n",
    "%config IPCompleter.greedy=True #autocomplete jupyter"
   ]
  },
  {
   "cell_type": "code",
   "execution_count": 3,
   "metadata": {},
   "outputs": [],
   "source": [
    "# import some data to play with\n",
    "wine = datasets.load_wine()\n",
    "x = wine.data\n",
    "y = wine.target\n",
    "\n",
    "target_names = wine.target_names\n",
    "features_names = wine.feature_names\n",
    "\n",
    "mask_2 = y!=2\n",
    "x = x[mask_2]\n",
    "y = y[mask_2]\n",
    "\n",
    "x_data_frame = pd.DataFrame(x,columns = features_names)"
   ]
  },
  {
   "cell_type": "code",
   "execution_count": 4,
   "metadata": {},
   "outputs": [
    {
     "name": "stdout",
     "output_type": "stream",
     "text": [
      "<class 'pandas.core.frame.DataFrame'>\n",
      "RangeIndex: 130 entries, 0 to 129\n",
      "Data columns (total 13 columns):\n",
      "alcohol                         130 non-null float64\n",
      "malic_acid                      130 non-null float64\n",
      "ash                             130 non-null float64\n",
      "alcalinity_of_ash               130 non-null float64\n",
      "magnesium                       130 non-null float64\n",
      "total_phenols                   130 non-null float64\n",
      "flavanoids                      130 non-null float64\n",
      "nonflavanoid_phenols            130 non-null float64\n",
      "proanthocyanins                 130 non-null float64\n",
      "color_intensity                 130 non-null float64\n",
      "hue                             130 non-null float64\n",
      "od280/od315_of_diluted_wines    130 non-null float64\n",
      "proline                         130 non-null float64\n",
      "dtypes: float64(13)\n",
      "memory usage: 13.3 KB\n"
     ]
    }
   ],
   "source": [
    "x_data_frame.info()"
   ]
  },
  {
   "cell_type": "code",
   "execution_count": 5,
   "metadata": {},
   "outputs": [
    {
     "data": {
      "text/plain": [
       "array(['class_0', 'class_1', 'class_2'], dtype='<U7')"
      ]
     },
     "execution_count": 5,
     "metadata": {},
     "output_type": "execute_result"
    }
   ],
   "source": [
    "target_names"
   ]
  },
  {
   "cell_type": "markdown",
   "metadata": {},
   "source": [
    "# train test val split"
   ]
  },
  {
   "cell_type": "code",
   "execution_count": null,
   "metadata": {},
   "outputs": [],
   "source": []
  },
  {
   "cell_type": "markdown",
   "metadata": {},
   "source": [
    "# Applied Logistic Regression"
   ]
  },
  {
   "cell_type": "code",
   "execution_count": null,
   "metadata": {},
   "outputs": [],
   "source": []
  },
  {
   "cell_type": "markdown",
   "metadata": {},
   "source": [
    "# Logistic Regression - Parameters - max_iter parameter"
   ]
  },
  {
   "cell_type": "code",
   "execution_count": null,
   "metadata": {},
   "outputs": [],
   "source": []
  }
 ],
 "metadata": {
  "kernelspec": {
   "display_name": "Python 3",
   "language": "python",
   "name": "python3"
  },
  "language_info": {
   "codemirror_mode": {
    "name": "ipython",
    "version": 3
   },
   "file_extension": ".py",
   "mimetype": "text/x-python",
   "name": "python",
   "nbconvert_exporter": "python",
   "pygments_lexer": "ipython3",
   "version": "3.7.1"
  }
 },
 "nbformat": 4,
 "nbformat_minor": 2
}
